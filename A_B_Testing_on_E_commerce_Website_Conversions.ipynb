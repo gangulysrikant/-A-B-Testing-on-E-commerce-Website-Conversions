{
  "nbformat": 4,
  "nbformat_minor": 0,
  "metadata": {
    "colab": {
      "provenance": []
    },
    "kernelspec": {
      "name": "python3",
      "display_name": "Python 3"
    },
    "language_info": {
      "name": "python"
    }
  },
  "cells": [
    {
      "cell_type": "markdown",
      "source": [
        "# 1. Loading and Exploring the Dataset"
      ],
      "metadata": {
        "id": "kl8InvOnL-fY"
      }
    },
    {
      "cell_type": "code",
      "execution_count": 2,
      "metadata": {
        "colab": {
          "base_uri": "https://localhost:8080/",
          "height": 206
        },
        "id": "AoGjQLYz2l8T",
        "outputId": "c337c2c1-aa5c-4b6f-c046-0855403dddef"
      },
      "outputs": [
        {
          "output_type": "execute_result",
          "data": {
            "text/plain": [
              "       id     time  con_treat      page  converted\n",
              "0  851104  11:48.6    control  old_page          0\n",
              "1  804228  01:45.2    control  old_page          0\n",
              "2  661590  55:06.2  treatment  new_page          0\n",
              "3  853541  28:03.1  treatment  new_page          0\n",
              "4  864975  52:26.2    control  old_page          1"
            ],
            "text/html": [
              "\n",
              "  <div id=\"df-8bed39d7-a790-4eb0-b44b-f33f5ec058f1\" class=\"colab-df-container\">\n",
              "    <div>\n",
              "<style scoped>\n",
              "    .dataframe tbody tr th:only-of-type {\n",
              "        vertical-align: middle;\n",
              "    }\n",
              "\n",
              "    .dataframe tbody tr th {\n",
              "        vertical-align: top;\n",
              "    }\n",
              "\n",
              "    .dataframe thead th {\n",
              "        text-align: right;\n",
              "    }\n",
              "</style>\n",
              "<table border=\"1\" class=\"dataframe\">\n",
              "  <thead>\n",
              "    <tr style=\"text-align: right;\">\n",
              "      <th></th>\n",
              "      <th>id</th>\n",
              "      <th>time</th>\n",
              "      <th>con_treat</th>\n",
              "      <th>page</th>\n",
              "      <th>converted</th>\n",
              "    </tr>\n",
              "  </thead>\n",
              "  <tbody>\n",
              "    <tr>\n",
              "      <th>0</th>\n",
              "      <td>851104</td>\n",
              "      <td>11:48.6</td>\n",
              "      <td>control</td>\n",
              "      <td>old_page</td>\n",
              "      <td>0</td>\n",
              "    </tr>\n",
              "    <tr>\n",
              "      <th>1</th>\n",
              "      <td>804228</td>\n",
              "      <td>01:45.2</td>\n",
              "      <td>control</td>\n",
              "      <td>old_page</td>\n",
              "      <td>0</td>\n",
              "    </tr>\n",
              "    <tr>\n",
              "      <th>2</th>\n",
              "      <td>661590</td>\n",
              "      <td>55:06.2</td>\n",
              "      <td>treatment</td>\n",
              "      <td>new_page</td>\n",
              "      <td>0</td>\n",
              "    </tr>\n",
              "    <tr>\n",
              "      <th>3</th>\n",
              "      <td>853541</td>\n",
              "      <td>28:03.1</td>\n",
              "      <td>treatment</td>\n",
              "      <td>new_page</td>\n",
              "      <td>0</td>\n",
              "    </tr>\n",
              "    <tr>\n",
              "      <th>4</th>\n",
              "      <td>864975</td>\n",
              "      <td>52:26.2</td>\n",
              "      <td>control</td>\n",
              "      <td>old_page</td>\n",
              "      <td>1</td>\n",
              "    </tr>\n",
              "  </tbody>\n",
              "</table>\n",
              "</div>\n",
              "    <div class=\"colab-df-buttons\">\n",
              "\n",
              "  <div class=\"colab-df-container\">\n",
              "    <button class=\"colab-df-convert\" onclick=\"convertToInteractive('df-8bed39d7-a790-4eb0-b44b-f33f5ec058f1')\"\n",
              "            title=\"Convert this dataframe to an interactive table.\"\n",
              "            style=\"display:none;\">\n",
              "\n",
              "  <svg xmlns=\"http://www.w3.org/2000/svg\" height=\"24px\" viewBox=\"0 -960 960 960\">\n",
              "    <path d=\"M120-120v-720h720v720H120Zm60-500h600v-160H180v160Zm220 220h160v-160H400v160Zm0 220h160v-160H400v160ZM180-400h160v-160H180v160Zm440 0h160v-160H620v160ZM180-180h160v-160H180v160Zm440 0h160v-160H620v160Z\"/>\n",
              "  </svg>\n",
              "    </button>\n",
              "\n",
              "  <style>\n",
              "    .colab-df-container {\n",
              "      display:flex;\n",
              "      gap: 12px;\n",
              "    }\n",
              "\n",
              "    .colab-df-convert {\n",
              "      background-color: #E8F0FE;\n",
              "      border: none;\n",
              "      border-radius: 50%;\n",
              "      cursor: pointer;\n",
              "      display: none;\n",
              "      fill: #1967D2;\n",
              "      height: 32px;\n",
              "      padding: 0 0 0 0;\n",
              "      width: 32px;\n",
              "    }\n",
              "\n",
              "    .colab-df-convert:hover {\n",
              "      background-color: #E2EBFA;\n",
              "      box-shadow: 0px 1px 2px rgba(60, 64, 67, 0.3), 0px 1px 3px 1px rgba(60, 64, 67, 0.15);\n",
              "      fill: #174EA6;\n",
              "    }\n",
              "\n",
              "    .colab-df-buttons div {\n",
              "      margin-bottom: 4px;\n",
              "    }\n",
              "\n",
              "    [theme=dark] .colab-df-convert {\n",
              "      background-color: #3B4455;\n",
              "      fill: #D2E3FC;\n",
              "    }\n",
              "\n",
              "    [theme=dark] .colab-df-convert:hover {\n",
              "      background-color: #434B5C;\n",
              "      box-shadow: 0px 1px 3px 1px rgba(0, 0, 0, 0.15);\n",
              "      filter: drop-shadow(0px 1px 2px rgba(0, 0, 0, 0.3));\n",
              "      fill: #FFFFFF;\n",
              "    }\n",
              "  </style>\n",
              "\n",
              "    <script>\n",
              "      const buttonEl =\n",
              "        document.querySelector('#df-8bed39d7-a790-4eb0-b44b-f33f5ec058f1 button.colab-df-convert');\n",
              "      buttonEl.style.display =\n",
              "        google.colab.kernel.accessAllowed ? 'block' : 'none';\n",
              "\n",
              "      async function convertToInteractive(key) {\n",
              "        const element = document.querySelector('#df-8bed39d7-a790-4eb0-b44b-f33f5ec058f1');\n",
              "        const dataTable =\n",
              "          await google.colab.kernel.invokeFunction('convertToInteractive',\n",
              "                                                    [key], {});\n",
              "        if (!dataTable) return;\n",
              "\n",
              "        const docLinkHtml = 'Like what you see? Visit the ' +\n",
              "          '<a target=\"_blank\" href=https://colab.research.google.com/notebooks/data_table.ipynb>data table notebook</a>'\n",
              "          + ' to learn more about interactive tables.';\n",
              "        element.innerHTML = '';\n",
              "        dataTable['output_type'] = 'display_data';\n",
              "        await google.colab.output.renderOutput(dataTable, element);\n",
              "        const docLink = document.createElement('div');\n",
              "        docLink.innerHTML = docLinkHtml;\n",
              "        element.appendChild(docLink);\n",
              "      }\n",
              "    </script>\n",
              "  </div>\n",
              "\n",
              "\n",
              "<div id=\"df-7ae06167-9371-4dfa-b105-13b2bd9ea3df\">\n",
              "  <button class=\"colab-df-quickchart\" onclick=\"quickchart('df-7ae06167-9371-4dfa-b105-13b2bd9ea3df')\"\n",
              "            title=\"Suggest charts\"\n",
              "            style=\"display:none;\">\n",
              "\n",
              "<svg xmlns=\"http://www.w3.org/2000/svg\" height=\"24px\"viewBox=\"0 0 24 24\"\n",
              "     width=\"24px\">\n",
              "    <g>\n",
              "        <path d=\"M19 3H5c-1.1 0-2 .9-2 2v14c0 1.1.9 2 2 2h14c1.1 0 2-.9 2-2V5c0-1.1-.9-2-2-2zM9 17H7v-7h2v7zm4 0h-2V7h2v10zm4 0h-2v-4h2v4z\"/>\n",
              "    </g>\n",
              "</svg>\n",
              "  </button>\n",
              "\n",
              "<style>\n",
              "  .colab-df-quickchart {\n",
              "      --bg-color: #E8F0FE;\n",
              "      --fill-color: #1967D2;\n",
              "      --hover-bg-color: #E2EBFA;\n",
              "      --hover-fill-color: #174EA6;\n",
              "      --disabled-fill-color: #AAA;\n",
              "      --disabled-bg-color: #DDD;\n",
              "  }\n",
              "\n",
              "  [theme=dark] .colab-df-quickchart {\n",
              "      --bg-color: #3B4455;\n",
              "      --fill-color: #D2E3FC;\n",
              "      --hover-bg-color: #434B5C;\n",
              "      --hover-fill-color: #FFFFFF;\n",
              "      --disabled-bg-color: #3B4455;\n",
              "      --disabled-fill-color: #666;\n",
              "  }\n",
              "\n",
              "  .colab-df-quickchart {\n",
              "    background-color: var(--bg-color);\n",
              "    border: none;\n",
              "    border-radius: 50%;\n",
              "    cursor: pointer;\n",
              "    display: none;\n",
              "    fill: var(--fill-color);\n",
              "    height: 32px;\n",
              "    padding: 0;\n",
              "    width: 32px;\n",
              "  }\n",
              "\n",
              "  .colab-df-quickchart:hover {\n",
              "    background-color: var(--hover-bg-color);\n",
              "    box-shadow: 0 1px 2px rgba(60, 64, 67, 0.3), 0 1px 3px 1px rgba(60, 64, 67, 0.15);\n",
              "    fill: var(--button-hover-fill-color);\n",
              "  }\n",
              "\n",
              "  .colab-df-quickchart-complete:disabled,\n",
              "  .colab-df-quickchart-complete:disabled:hover {\n",
              "    background-color: var(--disabled-bg-color);\n",
              "    fill: var(--disabled-fill-color);\n",
              "    box-shadow: none;\n",
              "  }\n",
              "\n",
              "  .colab-df-spinner {\n",
              "    border: 2px solid var(--fill-color);\n",
              "    border-color: transparent;\n",
              "    border-bottom-color: var(--fill-color);\n",
              "    animation:\n",
              "      spin 1s steps(1) infinite;\n",
              "  }\n",
              "\n",
              "  @keyframes spin {\n",
              "    0% {\n",
              "      border-color: transparent;\n",
              "      border-bottom-color: var(--fill-color);\n",
              "      border-left-color: var(--fill-color);\n",
              "    }\n",
              "    20% {\n",
              "      border-color: transparent;\n",
              "      border-left-color: var(--fill-color);\n",
              "      border-top-color: var(--fill-color);\n",
              "    }\n",
              "    30% {\n",
              "      border-color: transparent;\n",
              "      border-left-color: var(--fill-color);\n",
              "      border-top-color: var(--fill-color);\n",
              "      border-right-color: var(--fill-color);\n",
              "    }\n",
              "    40% {\n",
              "      border-color: transparent;\n",
              "      border-right-color: var(--fill-color);\n",
              "      border-top-color: var(--fill-color);\n",
              "    }\n",
              "    60% {\n",
              "      border-color: transparent;\n",
              "      border-right-color: var(--fill-color);\n",
              "    }\n",
              "    80% {\n",
              "      border-color: transparent;\n",
              "      border-right-color: var(--fill-color);\n",
              "      border-bottom-color: var(--fill-color);\n",
              "    }\n",
              "    90% {\n",
              "      border-color: transparent;\n",
              "      border-bottom-color: var(--fill-color);\n",
              "    }\n",
              "  }\n",
              "</style>\n",
              "\n",
              "  <script>\n",
              "    async function quickchart(key) {\n",
              "      const quickchartButtonEl =\n",
              "        document.querySelector('#' + key + ' button');\n",
              "      quickchartButtonEl.disabled = true;  // To prevent multiple clicks.\n",
              "      quickchartButtonEl.classList.add('colab-df-spinner');\n",
              "      try {\n",
              "        const charts = await google.colab.kernel.invokeFunction(\n",
              "            'suggestCharts', [key], {});\n",
              "      } catch (error) {\n",
              "        console.error('Error during call to suggestCharts:', error);\n",
              "      }\n",
              "      quickchartButtonEl.classList.remove('colab-df-spinner');\n",
              "      quickchartButtonEl.classList.add('colab-df-quickchart-complete');\n",
              "    }\n",
              "    (() => {\n",
              "      let quickchartButtonEl =\n",
              "        document.querySelector('#df-7ae06167-9371-4dfa-b105-13b2bd9ea3df button');\n",
              "      quickchartButtonEl.style.display =\n",
              "        google.colab.kernel.accessAllowed ? 'block' : 'none';\n",
              "    })();\n",
              "  </script>\n",
              "</div>\n",
              "\n",
              "    </div>\n",
              "  </div>\n"
            ],
            "application/vnd.google.colaboratory.intrinsic+json": {
              "type": "dataframe",
              "variable_name": "df"
            }
          },
          "metadata": {},
          "execution_count": 2
        }
      ],
      "source": [
        "import pandas as pd\n",
        "\n",
        "# Load dataset\n",
        "df = pd.read_csv(\"ABTEST.csv\")\n",
        "\n",
        "# Display first few rows\n",
        "df.head()"
      ]
    },
    {
      "cell_type": "code",
      "source": [
        "print(f\"Total Rows: {df.shape[0]}, Total Columns: {df.shape[1]}\")\n",
        "\n",
        "# Check missing values\n",
        "print(df.isnull().sum())\n",
        "\n",
        "# Check unique values in 'group' column\n",
        "print(df[\"con_treat\"].value_counts())"
      ],
      "metadata": {
        "colab": {
          "base_uri": "https://localhost:8080/"
        },
        "id": "ZYGZF50A3BBQ",
        "outputId": "774dc460-88d7-4109-aae4-0e802e3b3f9c"
      },
      "execution_count": 4,
      "outputs": [
        {
          "output_type": "stream",
          "name": "stdout",
          "text": [
            "Total Rows: 294478, Total Columns: 5\n",
            "id           0\n",
            "time         0\n",
            "con_treat    0\n",
            "page         0\n",
            "converted    0\n",
            "dtype: int64\n",
            "con_treat\n",
            "treatment    147276\n",
            "control      147202\n",
            "Name: count, dtype: int64\n"
          ]
        }
      ]
    },
    {
      "cell_type": "markdown",
      "source": [
        "# Step 2: Exploratory Data Analysis (EDA)"
      ],
      "metadata": {
        "id": "wbuJT1DH3-zf"
      }
    },
    {
      "cell_type": "markdown",
      "source": [
        "Check Conversion Rates for Each Group"
      ],
      "metadata": {
        "id": "dJDybe144GVY"
      }
    },
    {
      "cell_type": "code",
      "source": [
        "# Calculate conversion rates\n",
        "conversion_rates = df.groupby(\"con_treat\")[\"converted\"].mean()\n",
        "print(conversion_rates)\n",
        "\n",
        "# Plot conversion rates\n",
        "import seaborn as sns\n",
        "import matplotlib.pyplot as plt\n",
        "\n",
        "sns.barplot(x=conversion_rates.index, y=conversion_rates.values, palette=[\"blue\", \"orange\"])\n",
        "plt.title(\"Conversion Rates: Control vs. Treatment\")\n",
        "plt.ylabel(\"Conversion Rate\")\n",
        "plt.show()"
      ],
      "metadata": {
        "colab": {
          "base_uri": "https://localhost:8080/",
          "height": 648
        },
        "id": "gLZbOShc3Ncf",
        "outputId": "7b0ce52c-4ddf-4819-9253-9020dcc2c052"
      },
      "execution_count": 5,
      "outputs": [
        {
          "output_type": "stream",
          "name": "stdout",
          "text": [
            "con_treat\n",
            "control      0.120399\n",
            "treatment    0.118920\n",
            "Name: converted, dtype: float64\n"
          ]
        },
        {
          "output_type": "stream",
          "name": "stderr",
          "text": [
            "<ipython-input-5-5c3abacbfa6b>:9: FutureWarning: \n",
            "\n",
            "Passing `palette` without assigning `hue` is deprecated and will be removed in v0.14.0. Assign the `x` variable to `hue` and set `legend=False` for the same effect.\n",
            "\n",
            "  sns.barplot(x=conversion_rates.index, y=conversion_rates.values, palette=[\"blue\", \"orange\"])\n"
          ]
        },
        {
          "output_type": "display_data",
          "data": {
            "text/plain": [
              "<Figure size 640x480 with 1 Axes>"
            ],
            "image/png": "[encoded data removed]"
          },
          "metadata": {}
        }
      ]
    },
    {
      "cell_type": "markdown",
      "source": [
        "# Step 3: Hypothesis Testing\n",
        "We use a Z-test to check if the difference in conversion rates is statistically significant.\n",
        "\n",
        "🔹 Define Hypotheses:\n",
        "\n",
        "Null Hypothesis (H₀): No difference in conversion rates (New layout is NOT better).\n",
        "\n",
        "Alternative Hypothesis (H₁): New layout increases conversions."
      ],
      "metadata": {
        "id": "gq1k0CQG4XVl"
      }
    },
    {
      "cell_type": "markdown",
      "source": [
        "\n",
        "# Run Z-Test"
      ],
      "metadata": {
        "id": "pZ8wolgu4xjR"
      }
    },
    {
      "cell_type": "code",
      "source": [
        "from statsmodels.stats.proportion import proportions_ztest\n",
        "\n",
        "# Count conversions in each group\n",
        "control_success = df[df[\"con_treat\"] == \"control\"][\"converted\"].sum()\n",
        "treatment_success = df[df[\"con_treat\"] == \"treatment\"][\"converted\"].sum()\n",
        "\n",
        "# Count total users in each group\n",
        "control_total = df[df[\"con_treat\"] == \"control\"][\"converted\"].count()\n",
        "treatment_total = df[df[\"con_treat\"] == \"treatment\"][\"converted\"].count()\n",
        "\n",
        "# Run Z-Test\n",
        "z_stat, p_value = proportions_ztest([treatment_success, control_success], [treatment_total, control_total])\n",
        "\n",
        "print(f\"Z-Statistic: {z_stat:.2f}\")\n",
        "print(f\"P-Value: {p_value:.5f}\")"
      ],
      "metadata": {
        "colab": {
          "base_uri": "https://localhost:8080/"
        },
        "id": "IfEL0XkZ3yun",
        "outputId": "4baf4982-3a87-40fb-d31e-9902d9b91eca"
      },
      "execution_count": 6,
      "outputs": [
        {
          "output_type": "stream",
          "name": "stdout",
          "text": [
            "Z-Statistic: -1.24\n",
            "P-Value: 0.21612\n"
          ]
        }
      ]
    },
    {
      "cell_type": "markdown",
      "source": [
        "# Interpretation\n",
        "\n",
        "If p-value < 0.05, reject H₀ → New design significantly improves conversions!\n",
        "\n",
        "If p-value > 0.05, fail to reject H₀ → No significant difference, stick to old design."
      ],
      "metadata": {
        "id": "494Ft0iZ5UCe"
      }
    },
    {
      "cell_type": "code",
      "source": [],
      "metadata": {
        "id": "BoC-261Q5Lwt"
      },
      "execution_count": null,
      "outputs": []
    },
    {
      "cell_type": "markdown",
      "source": [
        "# Step 4: Effect Size (Cohen’s h)\n",
        "\n",
        "Even if p-value is significant, we check Cohen’s h for practical impact."
      ],
      "metadata": {
        "id": "-MBzbqOz5wZx"
      }
    },
    {
      "cell_type": "code",
      "source": [
        "from statsmodels.stats.api import proportion_effectsize\n",
        "\n",
        "effect_size = proportion_effectsize(treatment_success / treatment_total, control_success / control_total)\n",
        "print(f\"Effect Size (Cohen's h): {effect_size:.3f}\")"
      ],
      "metadata": {
        "colab": {
          "base_uri": "https://localhost:8080/"
        },
        "id": "36fpSagQ52dw",
        "outputId": "da3668c4-8fff-42c0-e656-ad91964b17e7"
      },
      "execution_count": 7,
      "outputs": [
        {
          "output_type": "stream",
          "name": "stdout",
          "text": [
            "Effect Size (Cohen's h): -0.005\n"
          ]
        }
      ]
    },
    {
      "cell_type": "markdown",
      "source": [
        "# Step 5: SQL Queries for A/B Testing"
      ],
      "metadata": {
        "id": "aDNxZnl86HHL"
      }
    },
    {
      "cell_type": "code",
      "source": [
        "import sqlite3\n",
        "\n",
        "# Load dataset\n",
        "df = pd.read_csv(\"ABTEST.csv\")\n",
        "\n",
        "# Connect to SQLite (or replace with PostgreSQL/MySQL connection)\n",
        "conn = sqlite3.connect(\"ab_testing.db\")\n",
        "\n",
        "# Store dataset in a SQL table\n",
        "df.to_sql(\"ab_test_data\", conn, if_exists=\"replace\", index=False)\n",
        "\n",
        "# Verify table creation\n",
        "print(pd.read_sql(\"SELECT * FROM ab_test_data LIMIT 5;\", conn))"
      ],
      "metadata": {
        "colab": {
          "base_uri": "https://localhost:8080/"
        },
        "id": "5k3hAVOQ7P-4",
        "outputId": "a03336e3-d13d-4aef-d180-0dcb32effe32"
      },
      "execution_count": 8,
      "outputs": [
        {
          "output_type": "stream",
          "name": "stdout",
          "text": [
            "       id     time  con_treat      page  converted\n",
            "0  851104  11:48.6    control  old_page          0\n",
            "1  804228  01:45.2    control  old_page          0\n",
            "2  661590  55:06.2  treatment  new_page          0\n",
            "3  853541  28:03.1  treatment  new_page          0\n",
            "4  864975  52:26.2    control  old_page          1\n"
          ]
        }
      ]
    },
    {
      "cell_type": "code",
      "source": [
        "fd= '''SELECT con_treat, COUNT(id) AS total_users\n",
        "FROM ab_test_data\n",
        "GROUP BY con_treat\n",
        ";'''"
      ],
      "metadata": {
        "id": "TXRCQ9IS6LNw"
      },
      "execution_count": 13,
      "outputs": []
    },
    {
      "cell_type": "markdown",
      "source": [
        "# Check total users per group"
      ],
      "metadata": {
        "id": "VOOCrDhz9l6w"
      }
    },
    {
      "cell_type": "code",
      "source": [
        "Total_Users = \"\"\"\n",
        "SELECT con_treat, COUNT(id) AS total_users\n",
        "FROM ab_test_data\n",
        "GROUP BY con_treat;\n",
        "\"\"\"\n",
        "print(pd.read_sql(Total_Users, conn))"
      ],
      "metadata": {
        "colab": {
          "base_uri": "https://localhost:8080/"
        },
        "id": "MF9XH3Pc8ykb",
        "outputId": "5f0bac01-20ef-4bdd-fdde-8b43cfed6e8a"
      },
      "execution_count": 14,
      "outputs": [
        {
          "output_type": "stream",
          "name": "stdout",
          "text": [
            "   con_treat  total_users\n",
            "0    control       147202\n",
            "1  treatment       147276\n"
          ]
        }
      ]
    },
    {
      "cell_type": "markdown",
      "source": [
        "## Calculating Conversion Rates"
      ],
      "metadata": {
        "id": "KJqCM2Yx-Lfz"
      }
    },
    {
      "cell_type": "code",
      "source": [
        "CRate = \"\"\"\n",
        "SELECT con_treat,\n",
        "       SUM(converted) AS total_conversions,\n",
        "       COUNT(id) AS total_users,\n",
        "       ROUND(AVG(converted) * 100, 2) AS conversion_rate\n",
        "FROM ab_test_data\n",
        "GROUP BY con_treat;\n",
        "\"\"\"\n",
        "print(pd.read_sql(CRate, conn))"
      ],
      "metadata": {
        "colab": {
          "base_uri": "https://localhost:8080/"
        },
        "id": "E8sUq5Qm9r_Q",
        "outputId": "6e171016-b935-4556-a9fb-aac5ab8ea776"
      },
      "execution_count": 17,
      "outputs": [
        {
          "output_type": "stream",
          "name": "stdout",
          "text": [
            "   con_treat  total_conversions  total_users  conversion_rate\n",
            "0    control              17723       147202            12.04\n",
            "1  treatment              17514       147276            11.89\n"
          ]
        }
      ]
    },
    {
      "cell_type": "markdown",
      "source": [
        "### Compare Control vs. Treatment Conversion"
      ],
      "metadata": {
        "id": "UtQpalxT-T_a"
      }
    },
    {
      "cell_type": "code",
      "source": [
        "XYZ = \"\"\"\n",
        "SELECT\n",
        "    SUM(CASE WHEN con_treat = 'control' THEN converted ELSE 0 END) AS control_conversions,\n",
        "    COUNT(CASE WHEN con_treat = 'control' THEN id ELSE NULL END) AS control_total,\n",
        "    SUM(CASE WHEN con_treat = 'treatment' THEN converted ELSE 0 END) AS treatment_conversions,\n",
        "    COUNT(CASE WHEN con_treat = 'treatment' THEN id ELSE NULL END) AS treatment_total\n",
        "FROM ab_test_data;\n",
        "\"\"\"\n",
        "print(pd.read_sql(XYZ, conn))"
      ],
      "metadata": {
        "colab": {
          "base_uri": "https://localhost:8080/"
        },
        "id": "fp319wMs-BI4",
        "outputId": "9a6e5461-fd74-47b7-b81d-cc1faf327fad"
      },
      "execution_count": 18,
      "outputs": [
        {
          "output_type": "stream",
          "name": "stdout",
          "text": [
            "   control_conversions  control_total  treatment_conversions  treatment_total\n",
            "0                17723         147202                  17514           147276\n"
          ]
        }
      ]
    },
    {
      "cell_type": "markdown",
      "source": [
        "# Visualizing Results"
      ],
      "metadata": {
        "id": "frb4NWl6_JOS"
      }
    },
    {
      "cell_type": "code",
      "source": [
        "sns.histplot(df[df[\"con_treat\"] == \"control\"][\"converted\"], kde=True, color=\"blue\", label=\"Control\", bins=10)\n",
        "sns.histplot(df[df[\"con_treat\"] == \"treatment\"][\"converted\"], kde=True, color=\"orange\", label=\"Treatment\", bins=10)\n",
        "plt.legend()\n",
        "plt.title(\"Conversion Distribution: Control vs. Treatment\")\n",
        "plt.show()"
      ],
      "metadata": {
        "colab": {
          "base_uri": "https://localhost:8080/",
          "height": 472
        },
        "id": "IEeY2UWw_Al1",
        "outputId": "9a7f80c1-7a35-451f-eeaf-1f200ee83d24"
      },
      "execution_count": 19,
      "outputs": [
        {
          "output_type": "display_data",
          "data": {
            "text/plain": [
              "<Figure size 640x480 with 1 Axes>"
            ],
            "image/png": "[encoded data removed]"
          },
          "metadata": {}
        }
      ]
    },
    {
      "cell_type": "code",
      "source": [],
      "metadata": {
        "id": "s5saLzxc_VSz"
      },
      "execution_count": null,
      "outputs": []
    }
  ]
}